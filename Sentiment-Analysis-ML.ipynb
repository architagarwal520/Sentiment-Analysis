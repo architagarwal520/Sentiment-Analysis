{
 "cells": [
  {
   "cell_type": "raw",
   "id": "12860ca0-f36d-4b2f-8c26-a594aa58048f",
   "metadata": {},
   "source": [
    "Sentiment Analysis of Patient Satisfaction Comments"
   ]
  },
  {
   "cell_type": "code",
   "execution_count": 1,
   "id": "a024a941-f661-4343-aab7-285f922f2026",
   "metadata": {},
   "outputs": [],
   "source": [
    "import pandas as pd\n",
    "import numpy as np \n",
    "import matplotlib.pyplot as plt\n",
    "import copy\n",
    "import math\n",
    "import sklearn\n",
    "from collections import defaultdict, Counter"
   ]
  },
  {
   "cell_type": "code",
   "execution_count": 58,
   "id": "4f30ae6f-e4c2-423e-9273-a78916ac4506",
   "metadata": {
    "tags": []
   },
   "outputs": [],
   "source": [
    "from sklearn.dummy import DummyClassifier\n",
    "from sklearn.metrics import accuracy_score\n",
    "from sklearn.metrics import classification_report\n",
    "from sklearn.metrics import precision_score\n",
    "from sklearn.naive_bayes import GaussianNB, BernoulliNB\n",
    "from sklearn.linear_model import LogisticRegression\n",
    "from sklearn.feature_selection import SelectKBest\n",
    "from sklearn.feature_selection import chi2\n",
    "from sklearn.preprocessing import StandardScaler\n",
    "from sklearn.model_selection import train_test_split\n",
    "from sklearn.feature_selection import mutual_info_classif\n",
    "from sklearn.preprocessing import MinMaxScaler\n",
    "from sklearn.naive_bayes import MultinomialNB"
   ]
  },
  {
   "cell_type": "code",
   "execution_count": 3,
   "id": "ffbabb4c-774b-4ffc-ae93-29131c506f88",
   "metadata": {},
   "outputs": [],
   "source": [
    "import warnings\n",
    "\n",
    "# ignore future warnings \n",
    "warnings.simplefilter(action='ignore', category=FutureWarning)"
   ]
  },
  {
   "cell_type": "code",
   "execution_count": 4,
   "id": "a72416d1-77eb-4e88-ace8-66130708c030",
   "metadata": {
    "tags": []
   },
   "outputs": [],
   "source": [
    "def minmaxNormalisation(data):\n",
    "    features = data\n",
    "    original_index = features.index\n",
    "    features_header = features.columns\n",
    "    scaler = MinMaxScaler()\n",
    "    features_normalized = scaler.fit_transform(features.values)\n",
    "    features_normalized = pd.DataFrame(features_normalized,index = original_index,columns = features_header) \n",
    "    return features_normalized"
   ]
  },
  {
   "cell_type": "code",
   "execution_count": 5,
   "id": "6043322a-8956-43b3-a7b0-f62514b39a61",
   "metadata": {},
   "outputs": [],
   "source": [
    "def scalarNormalisation(data):\n",
    "    features = data\n",
    "    original_index = features.index\n",
    "    features_header = features.columns\n",
    "    scaler =  StandardScaler()\n",
    "    features_normalized = scaler.fit_transform(features.values)\n",
    "    features_normalized = pd.DataFrame(features_normalized,index = original_index,columns = features_header)xs\n",
    "    return features_normalized"
   ]
  },
  {
   "cell_type": "code",
   "execution_count": 188,
   "id": "9001ccb7-99c1-47e3-a8a6-ca87b3ed82a2",
   "metadata": {
    "tags": []
   },
   "outputs": [],
   "source": [
    "# This function add the word embeddings or tfidf to the dataset and removes the comments\n",
    "\n",
    "def preprocess(train_data,features):\n",
    "    features = features.drop(features.columns[0],axis=1) \n",
    "\n",
    "    return features"
   ]
  },
  {
   "cell_type": "code",
   "execution_count": 189,
   "id": "2d619429-d900-45cc-8721-4fcbaf84ccc6",
   "metadata": {
    "tags": []
   },
   "outputs": [],
   "source": [
    "#Train dataset\n",
    "original_data_train = pd.read_csv(\"clinicalDataset/TRAIN.csv\")\n",
    "tfidf_comments_train = pd.read_csv(\"clinicalDataset/TFIDF_TRAIN.csv\")\n",
    "word_embedding_comment_train = pd.read_csv(\"clinicalDataset/384EMBEDDINGS_TRAIN.csv\")\n",
    "train_labels = original_data_train[\"rating\"]\n",
    "tfidf_train = preprocess(original_data_train,tfidf_comments_train)\n",
    "tfidf_train_normalised = scalarNormalisation(tfidf_train)\n",
    "word_embeddings_train = preprocess(original_data_train,word_embedding_comment_train)\n",
    "word_embeddings_train_normalised = scalarNormalisation(word_embeddings_train)\n",
    "tfidf_train_normalised_mmn = minmaxNormalisation(tfidf_train)\n",
    "word_embeddings_train_normalised_mmn = minmaxNormalisation(word_embeddings_train)\n",
    "\n",
    "#Validation dataset\n",
    "original_data_validation = pd.read_csv(\"clinicalDataset/VALIDATION.csv\")\n",
    "tfidf_comments_validation = pd.read_csv(\"clinicalDataset/TFIDF_VALIDATION.csv\")\n",
    "word_embedding_comment_validation = pd.read_csv(\"clinicalDataset/384EMBEDDINGS_VALIDATION.csv\")\n",
    "validation_labels = original_data_validation[\"rating\"]\n",
    "tfidf_validation = preprocess(original_data_validation,tfidf_comments_validation)\n",
    "tfidf_validation_normalised = scalarNormalisation(tfidf_validation)\n",
    "word_embeddings_validation = preprocess(original_data_validation,word_embedding_comment_validation)\n",
    "word_embeddings_validation_normalised = scalarNormalisation(word_embeddings_validation)\n",
    "tfidf_validation_normalised_mmn = minmaxNormalisation(tfidf_validation)\n",
    "word_embeddings_validation_normalised_mmn = minmaxNormalisation(word_embeddings_validation)\n"
   ]
  },
  {
   "cell_type": "raw",
   "id": "180d9a94-a3ff-4432-abf5-418104842124",
   "metadata": {},
   "source": [
    "Baseline Method: Weighted random"
   ]
  },
  {
   "cell_type": "code",
   "execution_count": 35,
   "id": "420b1e5d-9c50-451b-81fd-d7b47c077f34",
   "metadata": {
    "tags": []
   },
   "outputs": [],
   "source": [
    "def Weighted_Random(train_data_features,test_data_features,train_data_labels,test_data_labels):   \n",
    "    weighted_random = DummyClassifier(strategy=\"stratified\")\n",
    "    weighted_random.fit(train_data_features, train_data_labels)\n",
    "    weighted_random_predicted = weighted_random.predict(test_data_features)\n",
    "    predicted_series = pd.Series(weighted_random_predicted, name='predicted')\n",
    "    accuracy = accuracy_score(test_data_labels, weighted_random_predicted)\n",
    "    report = classification_report(test_data_labels, predicted_series, target_names=['-1','1'],zero_division=1)\n",
    "    return accuracy,report"
   ]
  },
  {
   "cell_type": "code",
   "execution_count": 138,
   "id": "3d52700e-0dfd-4048-b698-7d0f2fa7883a",
   "metadata": {
    "tags": []
   },
   "outputs": [
    {
     "name": "stdout",
     "output_type": "stream",
     "text": [
      "Weighted accuracy when we use TFIDF: 0.6023636363636363\n",
      "Weighted accuracy when we use word embeddings: 0.6081818181818182\n"
     ]
    }
   ],
   "source": [
    "weighted_accuracy_tfidf,Weighted_random_report_tfidf = Weighted_Random(tfidf_train_normalised,tfidf_validation_normalised,train_labels,validation_labels)\n",
    "print(\"Weighted accuracy when we use TFIDF:\",weighted_accuracy_tfidf)\n",
    "\n",
    "weighted_accuracy_word_embeddings,Weighted_random_report_word_embeddings = Weighted_Random(word_embeddings_train_normalised,word_embeddings_validation_normalised,train_labels,validation_labels)\n",
    "print(\"Weighted accuracy when we use word embeddings:\",weighted_accuracy_word_embeddings)"
   ]
  },
  {
   "cell_type": "raw",
   "id": "f7f8158d-c1f4-47d0-9ea2-d249dd3cb27f",
   "metadata": {},
   "source": [
    "Naive Bayes Classification:"
   ]
  },
  {
   "cell_type": "code",
   "execution_count": 20,
   "id": "87acc131-a4d5-4a36-9132-67321ae13933",
   "metadata": {
    "tags": []
   },
   "outputs": [],
   "source": [
    "def performGaussianNaiveBayes(train_data_features,train_data_labels,test_data_features,test_data_labels):\n",
    "        \n",
    "    gnb = GaussianNB()\n",
    "    gnb.fit(train_data_features, train_data_labels)\n",
    "    test_predicted = gnb.predict(test_data_features)\n",
    "    accuracy = accuracy_score(test_data_labels, test_predicted)\n",
    "    report = classification_report(test_data_labels, test_predicted, target_names=['-1','1'],zero_division=1)\n",
    "    micro = precision_score(test_data_labels, test_predicted, average='micro',zero_division=1)\n",
    "    macro = precision_score(test_data_labels, test_predicted, average='macro',zero_division=1)\n",
    "    return accuracy,report,micro,macro\n",
    "\n",
    "def performBernoulliNaiveBayes(train_data_features,train_data_labels,test_data_features,test_data_labels):\n",
    "    bnb = BernoulliNB()\n",
    "    bnb.fit(train_data_features, train_data_labels)\n",
    "    test_predicted = bnb.predict(test_data_features)\n",
    "    accuracy = accuracy_score(test_data_labels, test_predicted)\n",
    "    report = classification_report(test_data_labels, test_predicted, target_names=['-1','1'],zero_division=1)\n",
    "    micro = precision_score(test_data_labels, test_predicted, average='micro',zero_division=1)\n",
    "    macro = precision_score(test_data_labels, test_predicted, average='macro',zero_division=1)\n",
    "    return accuracy,report,micro,macro\n",
    "\n",
    "def performMultinomialNaiveBayes(train_data_features,train_data_labels,test_data_features,test_data_labels):\n",
    "    mnb = MultinomialNB()\n",
    "    mnb.fit(train_data_features, train_data_labels)\n",
    "    test_predicted = mnb.predict(test_data_features)\n",
    "    accuracy = accuracy_score(test_data_labels, test_predicted)\n",
    "    report = classification_report(test_data_labels, test_predicted, target_names=['-1','1'],zero_division=1)\n",
    "    micro = precision_score(test_data_labels, test_predicted, average='micro',zero_division=1)\n",
    "    macro = precision_score(test_data_labels, test_predicted, average='macro',zero_division=1)\n",
    "    return accuracy,report,micro,macro"
   ]
  },
  {
   "cell_type": "code",
   "execution_count": 157,
   "id": "b6bab944-4164-41e9-a485-d36448633f49",
   "metadata": {
    "tags": []
   },
   "outputs": [
    {
     "name": "stdout",
     "output_type": "stream",
     "text": [
      "Bernoulli accuracy when we use tfidf: 0.867\n",
      "Bernoulli accuracy when we use word embeddings: 0.861\n",
      "\n",
      "\n",
      "Gaussian accuracy when we use tfidf: 0.855\n",
      "Gaussian accuracy when we use word embeddings: 0.864\n",
      "\n",
      "\n",
      "Multinomial accuracy when we use tfidf: 0.885\n",
      "Multinomial accuracy when we use word embeddings: 0.856\n",
      "multinomial naive bayes report for tfidf:\n",
      "              precision    recall  f1-score   support\n",
      "\n",
      "          -1       0.82      0.72      0.77      1462\n",
      "           1       0.90      0.94      0.92      4038\n",
      "\n",
      "    accuracy                           0.88      5500\n",
      "   macro avg       0.86      0.83      0.85      5500\n",
      "weighted avg       0.88      0.88      0.88      5500\n",
      "\n",
      "multinomial naive bayes report for word embeddings:\n",
      "              precision    recall  f1-score   support\n",
      "\n",
      "          -1       0.82      0.72      0.77      1462\n",
      "           1       0.90      0.94      0.92      4038\n",
      "\n",
      "    accuracy                           0.88      5500\n",
      "   macro avg       0.86      0.83      0.85      5500\n",
      "weighted avg       0.88      0.88      0.88      5500\n",
      "\n"
     ]
    }
   ],
   "source": [
    "gnb_accuracy_tfidf,gnb_report_tfidf,gnb_micro_tfidf,gnb_macro_tfidf = performGaussianNaiveBayes(tfidf_train_normalised,train_labels,tfidf_validation_normalised,validation_labels)\n",
    "gnb_accuracy_word_embedding,gnb_report_word_embedding,gnb_micro_word_embedding,gnb_macro_word_embedding = performGaussianNaiveBayes(word_embeddings_train_normalised,train_labels,word_embeddings_validation_normalised,validation_labels)\n",
    "\n",
    "bnb_accuracy_tfidf,bnb_report_tfidf,bnb_micro_tfidf,bnb_macro_tfidf = performBernoulliNaiveBayes(tfidf_train_normalised,train_labels,tfidf_validation_normalised,validation_labels)\n",
    "bnb_accuracy_word_embedding,bnb_report_word_embedding,bnb_micro_word_embedding,bnb_macro_word_embedding = performBernoulliNaiveBayes(word_embeddings_train_normalised,train_labels,word_embeddings_validation_normalised,validation_labels)\n",
    "\n",
    "mmn_accuracy_tfidf,mmn_report_tfidf,mmn_micro_tfidf,mmn_macro_tfidf = performMultinomialNaiveBayes(tfidf_train_normalised_mmn,train_labels,tfidf_validation_normalised_mmn,validation_labels)\n",
    "mmn_accuracy_word_embedding,mmn_report_word_embedding,mmn_micro_word_embedding,mmn_macro_word_embedding = performMultinomialNaiveBayes(word_embeddings_train_normalised_mmn,train_labels,word_embeddings_validation_normalised_mmn,validation_labels)\n",
    "\n",
    "print(\"Bernoulli accuracy when we use tfidf:\",bnb_accuracy_tfidf.round(3))\n",
    "print(\"Bernoulli accuracy when we use word embeddings:\",bnb_accuracy_word_embedding.round(3))\n",
    "print(\"\\n\")\n",
    "print(\"Gaussian accuracy when we use tfidf:\",gnb_accuracy_tfidf.round(3))\n",
    "print(\"Gaussian accuracy when we use word embeddings:\",gnb_accuracy_word_embedding.round(3))\n",
    "print(\"\\n\")\n",
    "print(\"Multinomial accuracy when we use tfidf:\",mnb_accuracy_tfidf.round(3))\n",
    "print(\"Multinomial accuracy when we use word embeddings:\",mnb_accuracy_word_embedding.round(3))\n",
    "\n",
    "print(\"multinomial naive bayes report for tfidf:\")\n",
    "print(mmn_report_tfidf)\n",
    "\n",
    "print(\"multinomial naive bayes report for word embeddings:\")\n",
    "print(mmn_report_tfidf)\n",
    "                                                            "
   ]
  },
  {
   "cell_type": "raw",
   "id": "5d74345a-813d-4fe1-a347-00ac2d70d509",
   "metadata": {},
   "source": [
    "Logistic Regression:"
   ]
  },
  {
   "cell_type": "code",
   "execution_count": 130,
   "id": "4970e84f-1cb0-4f2f-af9b-b43ee2060dee",
   "metadata": {
    "tags": []
   },
   "outputs": [],
   "source": [
    "def logisticRegression(train_data_features,train_data_labels,test_data_features,test_data_labels,iters):\n",
    "    logistic_regression_model = LogisticRegression(max_iter=iters)\n",
    "    logistic_regression_model.fit(train_data_features, train_data_labels)\n",
    "    iterations_to_converge = logistic_regression_model.n_iter_[0] \n",
    "    test_predicted = logistic_regression_model.predict(test_data_features)\n",
    "    accuracy = accuracy_score(test_data_labels, test_predicted)\n",
    "    report = classification_report(test_data_labels, test_predicted, target_names=['-1','1'],zero_division=1)\n",
    "    micro = precision_score(test_data_labels, test_predicted, average='micro',zero_division=1)\n",
    "    macro = precision_score(test_data_labels, test_predicted, average='macro',zero_division=1)\n",
    "    return accuracy,report,micro,macro,iterations_to_converge"
   ]
  },
  {
   "cell_type": "code",
   "execution_count": 151,
   "id": "3f78b82f-e3a5-41d6-a7ae-59ccf6826aaa",
   "metadata": {
    "tags": []
   },
   "outputs": [
    {
     "name": "stdout",
     "output_type": "stream",
     "text": [
      "Logistic regression accuracy when we use tfidf: 0.904 and iterations needed were: 36\n",
      "Logistic regression accuracy when we use word embeddings: 0.924 and iterations needed were: 236\n",
      "logistic regression report for tfidf:\n",
      "              precision    recall  f1-score   support\n",
      "\n",
      "          -1       0.79      0.86      0.83      1462\n",
      "           1       0.95      0.92      0.93      4038\n",
      "\n",
      "    accuracy                           0.90      5500\n",
      "   macro avg       0.87      0.89      0.88      5500\n",
      "weighted avg       0.91      0.90      0.91      5500\n",
      "\n",
      "logistic regression report for word embeddings:\n",
      "              precision    recall  f1-score   support\n",
      "\n",
      "          -1       0.86      0.85      0.86      1462\n",
      "           1       0.95      0.95      0.95      4038\n",
      "\n",
      "    accuracy                           0.92      5500\n",
      "   macro avg       0.90      0.90      0.90      5500\n",
      "weighted avg       0.92      0.92      0.92      5500\n",
      "\n"
     ]
    }
   ],
   "source": [
    "logistic_regression_model_accuracy_tfidf,logistic_regression_model_report_tfidf,micro_tfidf,macro_tfidf,tfidf_iterations = logisticRegression(tfidf_train_normalised,train_labels,tfidf_validation_normalised,validation_labels,100)\n",
    "logistic_regression_model_accuracy_word_embedding,logistic_regression_model_report_word_embedding,micro_word_embedding,macro_word_embedding,word_embedding_iteration = logisticRegression(word_embeddings_train_normalised,train_labels,word_embeddings_validation_normalised,validation_labels,250)\n",
    "print(\"Logistic regression accuracy when we use tfidf: {} and iterations needed were: {}\".format(logistic_regression_model_accuracy_tfidf,tfidf_iterations))\n",
    "print(\"Logistic regression accuracy when we use word embeddings: {} and iterations needed were: {}\".format(logistic_regression_model_accuracy_word_embedding,word_embedding_iteration))\n",
    "\n",
    "print(\"logistic regression report for tfidf:\")\n",
    "print(logistic_regression_model_report_tfidf)\n",
    "\n",
    "print(\"logistic regression report for word embeddings:\")\n",
    "print(logistic_regression_model_report_word_embedding)\n",
    "                       "
   ]
  },
  {
   "cell_type": "raw",
   "id": "5f99e668-d610-4238-9d12-bad68eaa2e64",
   "metadata": {},
   "source": [
    "Feature Selection:"
   ]
  },
  {
   "cell_type": "raw",
   "id": "11742b2a-9706-4007-8fc3-342248807d56",
   "metadata": {},
   "source": [
    "Chi Square:"
   ]
  },
  {
   "cell_type": "code",
   "execution_count": 65,
   "id": "4ec147ec-bc14-470f-a901-5b61e03b757b",
   "metadata": {
    "tags": []
   },
   "outputs": [],
   "source": [
    "def chiSquare(train_data_features,train_data_labels,nf):\n",
    "    chi = SelectKBest(score_func=chi2, k=nf)\n",
    "    selected_features = chi.fit_transform(train_data_features, train_data_labels)\n",
    "\n",
    "    # Get the indices of the selected features\n",
    "    selected_feature_indices = chi.get_support(indices=True)\n",
    "    \n",
    "    # Get the names of the selected features\n",
    "    selected_features_name = train_data_features.columns[selected_feature_indices]\n",
    "    \n",
    "    return selected_features_name\n",
    "    "
   ]
  },
  {
   "cell_type": "code",
   "execution_count": 124,
   "id": "f6f71808-f1a5-4e0e-bfde-72ac0c59f82e",
   "metadata": {
    "tags": []
   },
   "outputs": [],
   "source": [
    "def findBestK(tfidf_train,train_labels):\n",
    "    best_accuracy = 0\n",
    "    best_k = 0\n",
    "    epsilon = 1e-4*2\n",
    "    original_accuracy = 0\n",
    "    k_array = []\n",
    "    accuracy_array = []\n",
    "\n",
    "    for k in range(500, 0, -10):\n",
    "        accuracy_k = []\n",
    "        for i in range(10):\n",
    "            train_data_features,test_data_features,train_data_labels,test_data_labels = train_test_split(tfidf_train,train_labels ,test_size = 0.2, random_state = i)\n",
    "            selected_feature_name = chiSquare(train_data_features,train_data_labels,nf=k)\n",
    "            train_data_new_features = train_data_features[selected_feature_name]\n",
    "            Chi2_train = train_data_new_features\n",
    "            Chi2_normalised_train = minmaxNormalisation(Chi2_train)\n",
    "\n",
    "            test_data_features_new_features = test_data_features[selected_feature_name]\n",
    "            Chi2_validation = test_data_features_new_features\n",
    "            Chi2_normalised_validation = minmaxNormalisation(Chi2_validation)\n",
    "\n",
    "            mnb_accuracy_chi2,mnb_report_chi2,micro_chi2,macro_chi2 = performMultinomialNaiveBayes(Chi2_normalised_train,train_data_labels,Chi2_normalised_validation,test_data_labels)\n",
    "            accuracy_k.append(mnb_accuracy_chi2)\n",
    "        if k == 500:\n",
    "            original_accuracy = np.mean(accuracy_k)\n",
    "        if original_accuracy - np.mean(accuracy_k) < epsilon:\n",
    "            k_array.append(k)\n",
    "            accuracy_array.append(np.mean(accuracy_k))\n",
    "    best_k_chi2_cross = min(k_array)\n",
    "    k_index = k_array.index(best_k_chi2_cross)\n",
    "    return best_k_chi2_cross\n"
   ]
  },
  {
   "cell_type": "code",
   "execution_count": 125,
   "id": "9e6519d5",
   "metadata": {},
   "outputs": [
    {
     "name": "stdout",
     "output_type": "stream",
     "text": [
      "250\n"
     ]
    }
   ],
   "source": [
    "best_k = findBestK(tfidf_train,train_labels)\n",
    "print(best_k)"
   ]
  },
  {
   "cell_type": "code",
   "execution_count": 152,
   "id": "c630ef5e",
   "metadata": {},
   "outputs": [
    {
     "name": "stdout",
     "output_type": "stream",
     "text": [
      "Multinomial accuracy when we use tfidf and chi square for feature selection using cross validation method is: 0.8796363636363637\n",
      "multinomial naive bayes report for tfidf using iterative approach:\n",
      "              precision    recall  f1-score   support\n",
      "\n",
      "          -1       0.82      0.70      0.76      1462\n",
      "           1       0.90      0.94      0.92      4038\n",
      "\n",
      "    accuracy                           0.88      5500\n",
      "   macro avg       0.86      0.82      0.84      5500\n",
      "weighted avg       0.88      0.88      0.88      5500\n",
      "\n"
     ]
    }
   ],
   "source": [
    "selected_feature_name = chiSquare(tfidf_train,train_labels,250)\n",
    "tfidf_train_new_features = tfidf_train[selected_feature_name]\n",
    "tfidf_Chi2_train = tfidf_train_new_features\n",
    "tfidf_Chi2_normalised_train = minmaxNormalisation(tfidf_Chi2_train)\n",
    "tfidf_validation_new_features = tfidf_validation[selected_feature_name]\n",
    "tfidf_Chi2_validation = tfidf_validation_new_features\n",
    "tfidf_Chi2_normalised_validation = minmaxNormalisation(tfidf_Chi2_validation)\n",
    "mnb_accuracy_tfidf_chi2,mnb_report_tfidf_chi2,mnb_micro_tfidf_chi2,mnb_macro_tfidf_chi2 = performMultinomialNaiveBayes(tfidf_Chi2_normalised_train,train_labels,tfidf_Chi2_normalised_validation,validation_labels)\n",
    "print(\"Multinomial accuracy when we use tfidf and chi square for feature selection using cross validation method is:\",mnb_accuracy_tfidf_chi2)\n",
    "print(\"multinomial naive bayes report for tfidf using iterative approach:\")\n",
    "print(mnb_report_tfidf_chi2)"
   ]
  },
  {
   "cell_type": "code",
   "execution_count": 128,
   "id": "357629c4-0f19-4f7d-9703-0ac241a7345c",
   "metadata": {
    "tags": []
   },
   "outputs": [
    {
     "name": "stdout",
     "output_type": "stream",
     "text": [
      "best k is : 430\n",
      "Multinomial accuracy when we use tfidf and chi square for feature selection is: 0.8845454545454545\n"
     ]
    },
    {
     "data": {
      "image/png": "[encoded data removed]",
      "text/plain": [
       "<Figure size 1000x600 with 1 Axes>"
      ]
     },
     "metadata": {},
     "output_type": "display_data"
    }
   ],
   "source": [
    "original_accuracy = 0\n",
    "k_array = []\n",
    "accuracy_array = []\n",
    "accuracies = []\n",
    "epsilon = 1e-4*2\n",
    "\n",
    "feature_counts = range(500, 0, -10)\n",
    "for k in feature_counts:\n",
    "    selected_feature_name = chiSquare(tfidf_train,train_labels,k)\n",
    "    tfidf_train_new_features = tfidf_train[selected_feature_name]\n",
    "    tfidf_Chi2_train = tfidf_train_new_features\n",
    "    tfidf_Chi2_normalised_train = minmaxNormalisation(tfidf_Chi2_train)\n",
    "    tfidf_validation_new_features = tfidf_validation[selected_feature_name]\n",
    "    tfidf_Chi2_validation = tfidf_validation_new_features\n",
    "    tfidf_Chi2_normalised_validation = minmaxNormalisation(tfidf_Chi2_validation)\n",
    "    mnb_accuracy_tfidf_chi2,mnb_report_tfidf_chi2,mnb_micro_tfidf_chi2,mnb_macro_tfidf_chi2 = performMultinomialNaiveBayes(tfidf_Chi2_normalised_train,train_labels,tfidf_Chi2_normalised_validation,validation_labels)\n",
    "    accuracies.append(mnb_accuracy_tfidf_chi2)\n",
    "    if k == 500:\n",
    "        original_accuracy = mnb_accuracy_tfidf_chi2\n",
    "    if original_accuracy - mnb_accuracy_tfidf_chi2 < epsilon:\n",
    "        k_array.append(k)\n",
    "        accuracy_array.append(mnb_accuracy_tfidf_chi2)\n",
    "\n",
    "best_k_chi2 = min(k_array)\n",
    "k_index = k_array.index(best_k_chi2)\n",
    "\n",
    "print(\"best k is :\",best_k_chi2)\n",
    "print(\"Multinomial accuracy when we use tfidf and chi square for feature selection is:\",accuracy_array[k_index])\n",
    "\n",
    "plt.figure(figsize=(10, 6))\n",
    "plt.plot(feature_counts, accuracies, marker='o', linestyle='-')\n",
    "plt.xlabel('Number of Features')\n",
    "plt.ylabel('Accuracy')\n",
    "plt.title('Accuracy vs. Number of Features')\n",
    "plt.grid(True)\n",
    "plt.show()\n",
    "    \n",
    "    "
   ]
  },
  {
   "cell_type": "code",
   "execution_count": 140,
   "id": "61bbca11-cfce-4081-b98a-c9cfa25b482d",
   "metadata": {
    "tags": []
   },
   "outputs": [
    {
     "name": "stdout",
     "output_type": "stream",
     "text": [
      "Gaussian accuracy when we use tfidf and chi square for 430 feature selection is: 0.857\n",
      "Bernoulli accuracy when we use tfidf and chi square for 430 feature selection is: 0.876\n",
      "Multinomial accuracy when we use tfidf and chi square for 430 feature selection is: 0.88\n",
      "\n",
      "\n",
      "Gaussian accuracy when we use tfidf before selection: 0.855\n",
      "Bernoulli accuracy when we use tfidf before selection: 0.867\n",
      "Multinomial accuracy when we use tfidf before selection: 0.885\n"
     ]
    }
   ],
   "source": [
    "selected_feature_name = chiSquare(tfidf_train,train_labels,best_k_chi2)\n",
    "\n",
    "tfidf_train_new_features = tfidf_train[selected_feature_name]\n",
    "tfidf_Chi2_train = tfidf_train_new_features\n",
    "tfidf_Chi2_normalised_train = scalarNormalisation(tfidf_Chi2_train)\n",
    "tfidf_validation_new_features = tfidf_validation[selected_feature_name]\n",
    "tfidf_Chi2_validation = tfidf_validation_new_features\n",
    "tfidf_Chi2_normalised_validation = scalarNormalisation(tfidf_Chi2_validation)\n",
    "tfidf_Chi2_normalised_train_mnb = minmaxNormalisation(tfidf_Chi2_train)\n",
    "tfidf_Chi2_normalised_validation_mnb = minmaxNormalisation(tfidf_Chi2_validation)\n",
    "\n",
    "gnb_accuracy_tfidf_chi2,gnb_report_tfidf_chi2,gnb_micro_tfidf_chi2,gnb_macro_tfidf_chi2 = performGaussianNaiveBayes(tfidf_Chi2_normalised_train,train_labels,tfidf_Chi2_normalised_validation,validation_labels)\n",
    "\n",
    "bnb_accuracy_tfidf_chi2,bnb_report_tfidf_chi2,bnb_micro_tfidf_chi2,bnb_macro_tfidf_chi2 = performBernoulliNaiveBayes(tfidf_Chi2_normalised_train,train_labels,tfidf_Chi2_normalised_validation,validation_labels)\n",
    "\n",
    "mnb_accuracy_tfidf_chi2,mnb_report_tfidf_chi2,mnb_micro_tfidf_chi2,mnb_macro_tfidf_chi2 = performMultinomialNaiveBayes(tfidf_Chi2_normalised_train_mnb,train_labels,tfidf_Chi2_normalised_validation_mnb,validation_labels)\n",
    "    \n",
    "print(\"Gaussian accuracy when we use tfidf and chi square for 430 feature selection is:\",gnb_accuracy_tfidf_chi2.round(3))\n",
    "print(\"Bernoulli accuracy when we use tfidf and chi square for 430 feature selection is:\",bnb_accuracy_tfidf_chi2.round(3))\n",
    "print(\"Multinomial accuracy when we use tfidf and chi square for 430 feature selection is:\",mnb_accuracy_tfidf_chi2.round(3))\n",
    "print(\"\\n\")\n",
    "print(\"Gaussian accuracy when we use tfidf before selection:\",gnb_accuracy_tfidf.round(3))\n",
    "print(\"Bernoulli accuracy when we use tfidf before selection:\",bnb_accuracy_tfidf.round(3))\n",
    "print(\"Multinomial accuracy when we use tfidf before selection:\",mnb_accuracy_tfidf.round(3))"
   ]
  },
  {
   "cell_type": "code",
   "execution_count": 133,
   "id": "3488d1f2",
   "metadata": {},
   "outputs": [
    {
     "name": "stdout",
     "output_type": "stream",
     "text": [
      "best k is : 200\n",
      "Logistic Regression accuracy when we use tfidf and chi square for feature selection is: 0.9041818181818182\n"
     ]
    },
    {
     "data": {
      "image/png": "[encoded data removed]",
      "text/plain": [
       "<Figure size 1000x600 with 1 Axes>"
      ]
     },
     "metadata": {},
     "output_type": "display_data"
    }
   ],
   "source": [
    "original_accuracy = 0\n",
    "k_array = []\n",
    "accuracy_array = []\n",
    "accuracies = []\n",
    "epsilon = 1e-4*2\n",
    "\n",
    "feature_counts = range(500, 0, -10)\n",
    "for k in feature_counts:\n",
    "    selected_feature_name = chiSquare(tfidf_train,train_labels,k)\n",
    "    tfidf_train_new_features = tfidf_train[selected_feature_name]\n",
    "    tfidf_Chi2_train = tfidf_train_new_features\n",
    "    tfidf_Chi2_normalised_train = scalarNormalisation(tfidf_Chi2_train)\n",
    "    tfidf_validation_new_features = tfidf_validation[selected_feature_name]\n",
    "    tfidf_Chi2_validation = tfidf_validation_new_features\n",
    "    tfidf_Chi2_normalised_validation = scalarNormalisation(tfidf_Chi2_validation)\n",
    "    lr_accuracy_tfidf_chi2,lr_report_tfidf_chi2,lr_micro_tfidf_chi2,lr_macro_tfidf_chi2,iteration_chi2 = logisticRegression(tfidf_Chi2_normalised_train,train_labels,tfidf_Chi2_normalised_validation,validation_labels,100)\n",
    "    accuracies.append(lr_accuracy_tfidf_chi2)\n",
    "    if k == 500:\n",
    "        original_accuracy = lr_accuracy_tfidf_chi2\n",
    "    if original_accuracy - lr_accuracy_tfidf_chi2 < epsilon:\n",
    "        k_array.append(k)\n",
    "        accuracy_array.append(lr_accuracy_tfidf_chi2)\n",
    "\n",
    "best_k_chi2 = min(k_array)\n",
    "k_index = k_array.index(best_k_chi2)\n",
    "\n",
    "print(\"best k is :\",best_k_chi2)\n",
    "print(\"Logistic Regression accuracy when we use tfidf and chi square for feature selection is:\",accuracy_array[k_index])\n",
    "\n",
    "plt.figure(figsize=(10, 6))\n",
    "plt.plot(feature_counts, accuracies, marker='o', linestyle='-')\n",
    "plt.xlabel('Number of Features')\n",
    "plt.ylabel('Accuracy')\n",
    "plt.title('Accuracy vs. Number of Features')\n",
    "plt.grid(True)\n",
    "plt.show()"
   ]
  },
  {
   "cell_type": "code",
   "execution_count": 153,
   "id": "de9aac7a",
   "metadata": {},
   "outputs": [
    {
     "name": "stdout",
     "output_type": "stream",
     "text": [
      "Logistic regression accuracy when we use tfidf: 0.9041818181818182 and iterations needed were: 37\n",
      "logistic regression report for tfidf:\n",
      "              precision    recall  f1-score   support\n",
      "\n",
      "          -1       0.79      0.87      0.83      1462\n",
      "           1       0.95      0.92      0.93      4038\n",
      "\n",
      "    accuracy                           0.90      5500\n",
      "   macro avg       0.87      0.89      0.88      5500\n",
      "weighted avg       0.91      0.90      0.91      5500\n",
      "\n"
     ]
    }
   ],
   "source": [
    "selected_feature_name = chiSquare(tfidf_train,train_labels,200)\n",
    "tfidf_train_new_features = tfidf_train[selected_feature_name]\n",
    "tfidf_Chi2_train = tfidf_train_new_features\n",
    "tfidf_Chi2_normalised_train = scalarNormalisation(tfidf_Chi2_train)\n",
    "tfidf_validation_new_features = tfidf_validation[selected_feature_name]\n",
    "tfidf_Chi2_validation = tfidf_validation_new_features\n",
    "tfidf_Chi2_normalised_validation = scalarNormalisation(tfidf_Chi2_validation)\n",
    "lr_accuracy_tfidf_chi2,lr_report_tfidf_chi2,lr_micro_tfidf_chi2,lr_macro_tfidf_chi2,iteration_chi2 = logisticRegression(tfidf_Chi2_normalised_train,train_labels,tfidf_Chi2_normalised_validation,validation_labels,100)\n",
    "\n",
    "print(\"Logistic regression accuracy when we use tfidf: {} and iterations needed were: {}\".format(lr_accuracy_tfidf_chi2,iteration_chi2))\n",
    "\n",
    "print(\"logistic regression report for tfidf:\")\n",
    "print(lr_report_tfidf_chi2)\n"
   ]
  },
  {
   "cell_type": "raw",
   "id": "1628e872-76ac-4d8a-8b4a-1adc26d4fe6f",
   "metadata": {},
   "source": [
    "Mutual Information:"
   ]
  },
  {
   "cell_type": "code",
   "execution_count": 142,
   "id": "68309e77-7125-497a-bc87-492706f954ca",
   "metadata": {
    "tags": []
   },
   "outputs": [],
   "source": [
    "def mutualInformation(train_data_features,train_data_labels,k):\n",
    "    \n",
    "    selector = SelectKBest(score_func=mutual_info_classif, k=k) \n",
    "    features_selected = selector.fit_transform(train_data_features, train_data_labels)\n",
    "    selected_feature_indices = selector.get_support(indices=True)\n",
    "    selected_feature_names = train_data_features.columns[selected_feature_indices]\n",
    "    \n",
    "    return selected_feature_names"
   ]
  },
  {
   "cell_type": "code",
   "execution_count": 154,
   "id": "283bb81b-ef63-436f-98ef-f7950c89eaa2",
   "metadata": {
    "tags": []
   },
   "outputs": [
    {
     "name": "stdout",
     "output_type": "stream",
     "text": [
      "best k is : 500\n",
      "Multinomial accuracy when we use tfidf and mutual information for feature selection is: 0.885\n"
     ]
    },
    {
     "data": {
      "image/png": "[encoded data removed]",
      "text/plain": [
       "<Figure size 1000x600 with 1 Axes>"
      ]
     },
     "metadata": {},
     "output_type": "display_data"
    }
   ],
   "source": [
    "original_accuracy = 0\n",
    "k_array = []\n",
    "accuracy_array = []\n",
    "accuracies = []\n",
    "epsilon = 1e-4*2\n",
    "\n",
    "feature_counts = range(500, 0, -10)\n",
    "for k in feature_counts:\n",
    "    selected_feature_name = mutualInformation(tfidf_train,train_labels,k)\n",
    "    tfidf_train_new_features = tfidf_train[selected_feature_name]\n",
    "    tfidf_mi_train = tfidf_train_new_features\n",
    "    tfidf_mi_normalised_train = minmaxNormalisation(tfidf_mi_train)\n",
    "    tfidf_validation_new_features = tfidf_validation[selected_feature_name]\n",
    "    tfidf_mi_validation = tfidf_validation_new_features\n",
    "    tfidf_mi_normalised_validation = minmaxNormalisation(tfidf_mi_validation)\n",
    "    mnb_accuracy_tfidf_mi,mnb_report_tfidf_mi,micro_tfidf_mi,macro_tfidf_mi = performMultinomialNaiveBayes(tfidf_mi_normalised_train,train_labels,tfidf_mi_normalised_validation,validation_labels)\n",
    "    accuracies.append(mnb_accuracy_tfidf_mi)\n",
    "    if k == 500:\n",
    "        original_accuracy = mnb_accuracy_tfidf_mi\n",
    "    if original_accuracy - mnb_accuracy_tfidf_mi < epsilon:\n",
    "        k_array.append(k)\n",
    "        accuracy_array.append(mnb_accuracy_tfidf_mi)\n",
    "\n",
    "best_k_mi = min(k_array)\n",
    "k_index = k_array.index(best_k_mi)\n",
    "\n",
    "print(\"best k is :\",best_k_mi)\n",
    "print(\"Multinomial accuracy when we use tfidf and mutual information for feature selection is:\",accuracy_array[k_index].round(3))\n",
    "\n",
    "plt.figure(figsize=(10, 6))\n",
    "plt.plot(feature_counts, accuracies, marker='o', linestyle='-')\n",
    "plt.xlabel('Number of Features')\n",
    "plt.ylabel('Accuracy')\n",
    "plt.title('Accuracy vs. Number of Features')\n",
    "plt.grid(True)\n",
    "plt.show()"
   ]
  },
  {
   "cell_type": "raw",
   "id": "cf945a9b",
   "metadata": {},
   "source": [
    "Kaggle Evaluation:"
   ]
  },
  {
   "cell_type": "code",
   "execution_count": 174,
   "id": "a33c1baa",
   "metadata": {},
   "outputs": [],
   "source": [
    "#Test dataset\n",
    "original_data_test = pd.read_csv(\"clinicalDataset/TEST_NO_LABELS.csv\")\n",
    "tfidf_comments_test = pd.read_csv(\"clinicalDataset/TFIDF_TEST.csv\")\n",
    "word_embedding_comment_test = pd.read_csv(\"clinicalDataset/384EMBEDDINGS_TEST.csv\")\n",
    "tfidf_test = preprocess(original_data_test,tfidf_comments_test)\n",
    "tfidf_test_normalised = scalarNormalisation(tfidf_test)\n",
    "word_embeddings_test = preprocess(original_data_test,word_embedding_comment_test)\n",
    "word_embeddings_test_normalised = scalarNormalisation(word_embeddings_test)\n",
    "logistic_regression_model = LogisticRegression(max_iter=300)\n",
    "logistic_regression_model.fit(word_embeddings_train_normalised, train_labels)\n",
    "test_predicted = logistic_regression_model.predict(word_embeddings_test_normalised)\n",
    "result_df = pd.DataFrame({'rating': test_predicted})\n",
    "result_df['id'] = range(len(test_predicted))\n",
    "result_df.set_index('id', inplace=True)\n",
    "result_df.to_csv('predicted_results_word.csv')"
   ]
  }
 ],
 "metadata": {
  "kernelspec": {
   "display_name": "Python 3 (ipykernel)",
   "language": "python",
   "name": "python3"
  },
  "language_info": {
   "codemirror_mode": {
    "name": "ipython",
    "version": 3
   },
   "file_extension": ".py",
   "mimetype": "text/x-python",
   "name": "python",
   "nbconvert_exporter": "python",
   "pygments_lexer": "ipython3",
   "version": "3.11.3"
  }
 },
 "nbformat": 4,
 "nbformat_minor": 5
}
